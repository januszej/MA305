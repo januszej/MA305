{
 "cells": [
  {
   "cell_type": "code",
   "execution_count": null,
   "metadata": {},
   "outputs": [],
   "source": [
    "# Install a conda package in the current Jupyter kernel\n",
    "import sys\n",
    "!conda install --yes --prefix {sys.prefix} numpy\n",
    "\n",
    "# Install a conda package in the current Jupyter kernel\n",
    "import sys\n",
    "!conda install --yes --prefix {sys.prefix} matplotlib\n",
    "\n",
    "import numpy as py\n",
    "import matplotlib.pyplot as plt"
   ]
  },
  {
   "cell_type": "code",
   "execution_count": null,
   "metadata": {},
   "outputs": [],
   "source": [
    "uStep = py.heaviside"
   ]
  },
  {
   "cell_type": "code",
   "execution_count": null,
   "metadata": {},
   "outputs": [],
   "source": [
    "# 1   Given original discrete signal X[n]:\n",
    "    #    X[n] = [1,1,2,2,3], n = 1,2,3,4,5\n",
    "    # Plot \n",
    "        # X[n]\n",
    "        # X1[n] = X[n-2]\n",
    "        # X2[n] = X[-n]\n",
    "\n",
    "# 2 Given original discrete signal X[n]:\n",
    "    #   X[n] = [1,0,-1,3,2], n = -1,0,1,2,3\n",
    "    # Plot\n",
    "        # X1[n] = X[n+3]\n",
    "        # X2[n] = X[-n-3]\n",
    "        \n",
    "# 3 Plot the following signals:\n",
    "# (1) X[n]=sin(2*pi*n/7),𝑛𝑛=1,2,3…20\n",
    "# (2) X[n]=cos(pi*n/3), 𝑛𝑛 =1,2,3…20\n",
    "# (3) X[n]=cos(2*pi*n/3)+sin(2*pi*n/5), 𝑛𝑛 =1,2,3…50\n",
    "        \n",
    "# 4 Given discrete signal X[n]:\n",
    "# X[n]=n∗(u[n]−u[n−8]), 𝑛𝑛=1,2,3…20\n",
    "# Plot X[n]\n"
   ]
  },
  {
   "cell_type": "code",
   "execution_count": null,
   "metadata": {},
   "outputs": [],
   "source": [
    "### Problem 1\n",
    "#Plot original signal X[n] which will be represented by y\n",
    "\n",
    "y = py.array([1, 1, 2, 2, 3])\n",
    "n = py.array([1, 2, 3, 4, 5])\n",
    "\n",
    "x = plt\n",
    "x.figure(0)\n",
    "x.title('Discrete Plot X[n]')\n",
    "x.ylabel('y')\n",
    "x.xlabel('n')\n",
    "x.stem(n,y, '--')\n",
    "x.grid(True)    "
   ]
  },
  {
   "cell_type": "code",
   "execution_count": null,
   "metadata": {},
   "outputs": [],
   "source": [
    "#Plot X1[n]\n",
    "n = n+2\n",
    "x1 = plt\n",
    "x1.figure(1)\n",
    "x1.title('Discrete Plot X1[n]')\n",
    "x1.ylabel('y')\n",
    "x1.xlabel('n')\n",
    "x1.stem(n,y, '--')\n",
    "x1.grid(True)      "
   ]
  },
  {
   "cell_type": "code",
   "execution_count": null,
   "metadata": {},
   "outputs": [],
   "source": [
    "#Plot X2[n]\n",
    "#Reset n\n",
    "y = py.array([1, 1, 2, 2, 3])\n",
    "n = py.array([1, 2, 3, 4, 5])\n",
    "\n",
    "n = 0-n\n",
    "x2 = plt\n",
    "x2.figure(2)\n",
    "x2.title('Discrete Plot X2[n]')\n",
    "x2.ylabel('y')\n",
    "x2.xlabel('n')\n",
    "x2.stem(n,y, '--')\n",
    "x2.grid(True)  "
   ]
  },
  {
   "cell_type": "code",
   "execution_count": null,
   "metadata": {},
   "outputs": [],
   "source": [
    "### Problem 2\n",
    "#Plot X1[n]\n",
    "y = py.array([1,0,-1,3,2])\n",
    "n = py.array([-1,0,1,2,3])\n",
    "\n",
    "n = n+3\n",
    "x1 = plt\n",
    "x1.figure(3)\n",
    "x1.title('Discrete Plot X1[n]')\n",
    "x1.ylabel('y')\n",
    "x1.xlabel('n')\n",
    "x1.stem(n,y, '--')\n",
    "x1.grid(True)  "
   ]
  },
  {
   "cell_type": "code",
   "execution_count": null,
   "metadata": {},
   "outputs": [],
   "source": [
    "#Plot X2[n]\n",
    "#reset n\n",
    "y = py.array([1,0,-1,3,2])\n",
    "n = py.array([-1,0,1,2,3])\n",
    "\n",
    "n = 0-(n+3)\n",
    "x2 = plt\n",
    "x2.figure(4)\n",
    "x2.title('Discrete Plot X2[n]')\n",
    "x2.ylabel('y')\n",
    "x2.xlabel('n')\n",
    "x2.stem(n,y, '--')\n",
    "x2.grid(True)  "
   ]
  },
  {
   "cell_type": "code",
   "execution_count": null,
   "metadata": {},
   "outputs": [],
   "source": [
    "#Problem 3\n",
    "# (1) X[n]=sin(2*pi*n/7),𝑛𝑛=1,2,3…20\n",
    "# (2) X[n]=cos(pi*n/3), 𝑛𝑛 =1,2,3…20\n",
    "# (3) X[n]=cos(2*pi*n/3)+sin(2*pi*n/5), 𝑛𝑛 =1,2,3…50\n",
    "#part 1\n",
    "nN = py.array(range(1,20))\n",
    "y = py.sin((2*(py.pi)*nN)/7)\n",
    "\n",
    "x1 = plt\n",
    "x1.figure(4)\n",
    "x1.title('Discrete Plot X1[n]')\n",
    "x1.ylabel('y')\n",
    "x1.xlabel('nN')\n",
    "x1.stem(nN,y, '--')\n",
    "x1.grid(True)  "
   ]
  },
  {
   "cell_type": "code",
   "execution_count": null,
   "metadata": {},
   "outputs": [],
   "source": [
    "#Part 2\n",
    "nN = py.array(range(1,20))\n",
    "y = py.cos(((py.pi)*nN)/3)\n",
    "\n",
    "x1 = plt\n",
    "x1.figure(4)\n",
    "x1.title('Discrete Plot X2[n]')\n",
    "x1.ylabel('y')\n",
    "x1.xlabel('nN')\n",
    "x1.stem(nN,y, '--')\n",
    "x1.grid(True)  \n"
   ]
  },
  {
   "cell_type": "code",
   "execution_count": null,
   "metadata": {},
   "outputs": [],
   "source": [
    "#Part 3\n",
    "nN = py.array(range(1,50))\n",
    "y = (py.cos((2*(py.pi)*nN)/3))+(py.sin((2*(py.pi)*nN)/5))\n",
    "\n",
    "x1 = plt\n",
    "x1.figure(4)\n",
    "x1.title('Discrete Plot X2[n]')\n",
    "x1.ylabel('y')\n",
    "x1.xlabel('nN')\n",
    "x1.stem(nN,y, '--')\n",
    "x1.grid(True)  "
   ]
  },
  {
   "cell_type": "code",
   "execution_count": null,
   "metadata": {},
   "outputs": [],
   "source": [
    "# 4 Given discrete signal X[n]:\n",
    "# X[n]=n∗(u[n]−u[n−8]), 𝑛𝑛=1,2,3…20\n",
    "# Plot X[n]\n",
    "\n",
    "nN = py.array(range(0,30))\n",
    "y = py.sin((2*(py.pi)*nN)/7)\n",
    "\n",
    "u = uStep(nN,1)\n",
    "print(u)\n",
    "\n",
    "u2 = uStep(nN-8,1)\n",
    "print(u2)\n",
    "\n",
    "x1 = plt\n",
    "x1.figure(4)\n",
    "x1.title('Discrete Plot U[n]')\n",
    "x1.ylabel('y')\n",
    "x1.xlabel('nN')\n",
    "x1.stem(nN,u-u2, '--')\n",
    "x1.grid(True) "
   ]
  },
  {
   "cell_type": "code",
   "execution_count": null,
   "metadata": {},
   "outputs": [],
   "source": []
  }
 ],
 "metadata": {
  "kernelspec": {
   "display_name": "Python 3",
   "language": "python",
   "name": "python3"
  },
  "language_info": {
   "codemirror_mode": {
    "name": "ipython",
    "version": 3
   },
   "file_extension": ".py",
   "mimetype": "text/x-python",
   "name": "python",
   "nbconvert_exporter": "python",
   "pygments_lexer": "ipython3",
   "version": "3.7.8"
  }
 },
 "nbformat": 4,
 "nbformat_minor": 4
}
